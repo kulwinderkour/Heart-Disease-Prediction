{
 "cells": [
  {
   "cell_type": "markdown",
   "id": "c9340eb5",
   "metadata": {},
   "source": [
    "# HEART DISEASE PREIDCTION MODEL"
   ]
  },
  {
   "cell_type": "code",
   "execution_count": 2,
   "id": "62979299",
   "metadata": {},
   "outputs": [],
   "source": [
    "import pandas as pd\n",
    "import numpy as np\n",
    "from sklearn.model_selection import train_test_split\n",
    "from sklearn.linear_model import LogisticRegression\n",
    "from sklearn.metrics import accuracy_score"
   ]
  },
  {
   "cell_type": "code",
   "execution_count": 7,
   "id": "7a6c12bc",
   "metadata": {},
   "outputs": [
    {
     "data": {
      "text/html": [
       "<div>\n",
       "<style scoped>\n",
       "    .dataframe tbody tr th:only-of-type {\n",
       "        vertical-align: middle;\n",
       "    }\n",
       "\n",
       "    .dataframe tbody tr th {\n",
       "        vertical-align: top;\n",
       "    }\n",
       "\n",
       "    .dataframe thead th {\n",
       "        text-align: right;\n",
       "    }\n",
       "</style>\n",
       "<table border=\"1\" class=\"dataframe\">\n",
       "  <thead>\n",
       "    <tr style=\"text-align: right;\">\n",
       "      <th></th>\n",
       "      <th>age</th>\n",
       "      <th>sex</th>\n",
       "      <th>chestpain</th>\n",
       "      <th>trestbloodpressure</th>\n",
       "      <th>chol</th>\n",
       "      <th>fastingbloodsugar</th>\n",
       "      <th>restecg</th>\n",
       "      <th>maximumheartrateachieve</th>\n",
       "      <th>exerciseangina</th>\n",
       "      <th>oldpeakdep</th>\n",
       "      <th>slopexercise</th>\n",
       "      <th>ca</th>\n",
       "      <th>thal</th>\n",
       "      <th>target</th>\n",
       "    </tr>\n",
       "  </thead>\n",
       "  <tbody>\n",
       "    <tr>\n",
       "      <th>298</th>\n",
       "      <td>57</td>\n",
       "      <td>0</td>\n",
       "      <td>0</td>\n",
       "      <td>140</td>\n",
       "      <td>241</td>\n",
       "      <td>0</td>\n",
       "      <td>1</td>\n",
       "      <td>123</td>\n",
       "      <td>1</td>\n",
       "      <td>0.2</td>\n",
       "      <td>1</td>\n",
       "      <td>0</td>\n",
       "      <td>3</td>\n",
       "      <td>0</td>\n",
       "    </tr>\n",
       "    <tr>\n",
       "      <th>299</th>\n",
       "      <td>45</td>\n",
       "      <td>1</td>\n",
       "      <td>3</td>\n",
       "      <td>110</td>\n",
       "      <td>264</td>\n",
       "      <td>0</td>\n",
       "      <td>1</td>\n",
       "      <td>132</td>\n",
       "      <td>0</td>\n",
       "      <td>1.2</td>\n",
       "      <td>1</td>\n",
       "      <td>0</td>\n",
       "      <td>3</td>\n",
       "      <td>0</td>\n",
       "    </tr>\n",
       "    <tr>\n",
       "      <th>300</th>\n",
       "      <td>68</td>\n",
       "      <td>1</td>\n",
       "      <td>0</td>\n",
       "      <td>144</td>\n",
       "      <td>193</td>\n",
       "      <td>1</td>\n",
       "      <td>1</td>\n",
       "      <td>141</td>\n",
       "      <td>0</td>\n",
       "      <td>3.4</td>\n",
       "      <td>1</td>\n",
       "      <td>2</td>\n",
       "      <td>3</td>\n",
       "      <td>0</td>\n",
       "    </tr>\n",
       "    <tr>\n",
       "      <th>301</th>\n",
       "      <td>57</td>\n",
       "      <td>1</td>\n",
       "      <td>0</td>\n",
       "      <td>130</td>\n",
       "      <td>131</td>\n",
       "      <td>0</td>\n",
       "      <td>1</td>\n",
       "      <td>115</td>\n",
       "      <td>1</td>\n",
       "      <td>1.2</td>\n",
       "      <td>1</td>\n",
       "      <td>1</td>\n",
       "      <td>3</td>\n",
       "      <td>0</td>\n",
       "    </tr>\n",
       "    <tr>\n",
       "      <th>302</th>\n",
       "      <td>57</td>\n",
       "      <td>0</td>\n",
       "      <td>1</td>\n",
       "      <td>130</td>\n",
       "      <td>236</td>\n",
       "      <td>0</td>\n",
       "      <td>0</td>\n",
       "      <td>174</td>\n",
       "      <td>0</td>\n",
       "      <td>0.0</td>\n",
       "      <td>1</td>\n",
       "      <td>1</td>\n",
       "      <td>2</td>\n",
       "      <td>0</td>\n",
       "    </tr>\n",
       "  </tbody>\n",
       "</table>\n",
       "</div>"
      ],
      "text/plain": [
       "     age  sex  chestpain  trestbloodpressure  chol  fastingbloodsugar  \\\n",
       "298   57    0          0                 140   241                  0   \n",
       "299   45    1          3                 110   264                  0   \n",
       "300   68    1          0                 144   193                  1   \n",
       "301   57    1          0                 130   131                  0   \n",
       "302   57    0          1                 130   236                  0   \n",
       "\n",
       "     restecg  maximumheartrateachieve  exerciseangina  oldpeakdep  \\\n",
       "298        1                      123               1         0.2   \n",
       "299        1                      132               0         1.2   \n",
       "300        1                      141               0         3.4   \n",
       "301        1                      115               1         1.2   \n",
       "302        0                      174               0         0.0   \n",
       "\n",
       "     slopexercise  ca  thal  target  \n",
       "298             1   0     3       0  \n",
       "299             1   0     3       0  \n",
       "300             1   2     3       0  \n",
       "301             1   1     3       0  \n",
       "302             1   1     2       0  "
      ]
     },
     "execution_count": 7,
     "metadata": {},
     "output_type": "execute_result"
    }
   ],
   "source": [
    "df=  pd.read_csv('heart_disease_data.csv')\n",
    "df.head(10)\n",
    "df.tail()\n",
    "# df.describe()  # statistical values"
   ]
  },
  {
   "cell_type": "code",
   "execution_count": 8,
   "id": "433c9f19",
   "metadata": {},
   "outputs": [
    {
     "data": {
      "text/plain": [
       "(303, 14)"
      ]
     },
     "execution_count": 8,
     "metadata": {},
     "output_type": "execute_result"
    }
   ],
   "source": [
    "df.shape"
   ]
  },
  {
   "cell_type": "code",
   "execution_count": 9,
   "id": "41b389a2",
   "metadata": {},
   "outputs": [
    {
     "name": "stdout",
     "output_type": "stream",
     "text": [
      "<class 'pandas.core.frame.DataFrame'>\n",
      "RangeIndex: 303 entries, 0 to 302\n",
      "Data columns (total 14 columns):\n",
      " #   Column                   Non-Null Count  Dtype  \n",
      "---  ------                   --------------  -----  \n",
      " 0   age                      303 non-null    int64  \n",
      " 1   sex                      303 non-null    int64  \n",
      " 2   chestpain                303 non-null    int64  \n",
      " 3   trestbloodpressure       303 non-null    int64  \n",
      " 4   chol                     303 non-null    int64  \n",
      " 5   fastingbloodsugar        303 non-null    int64  \n",
      " 6   restecg                  303 non-null    int64  \n",
      " 7   maximumheartrateachieve  303 non-null    int64  \n",
      " 8   exerciseangina           303 non-null    int64  \n",
      " 9   oldpeakdep               303 non-null    float64\n",
      " 10  slopexercise             303 non-null    int64  \n",
      " 11  ca                       303 non-null    int64  \n",
      " 12  thal                     303 non-null    int64  \n",
      " 13  target                   303 non-null    int64  \n",
      "dtypes: float64(1), int64(13)\n",
      "memory usage: 33.3 KB\n"
     ]
    }
   ],
   "source": [
    "df.info()"
   ]
  },
  {
   "cell_type": "code",
   "execution_count": null,
   "id": "c88932ee",
   "metadata": {},
   "outputs": [
    {
     "data": {
      "text/plain": [
       "age                        0\n",
       "sex                        0\n",
       "chestpain                  0\n",
       "trestbloodpressure         0\n",
       "chol                       0\n",
       "fastingbloodsugar          0\n",
       "restecg                    0\n",
       "maximumheartrateachieve    0\n",
       "exerciseangina             0\n",
       "oldpeakdep                 0\n",
       "slopexercise               0\n",
       "ca                         0\n",
       "thal                       0\n",
       "target                     0\n",
       "dtype: int64"
      ]
     },
     "execution_count": 10,
     "metadata": {},
     "output_type": "execute_result"
    }
   ],
   "source": [
    "df.isnull().sum()  ## shows the missing values"
   ]
  },
  {
   "cell_type": "markdown",
   "id": "fa984dba",
   "metadata": {},
   "source": [
    "# distribution of target variable"
   ]
  },
  {
   "cell_type": "code",
   "execution_count": null,
   "id": "cb10cf68",
   "metadata": {},
   "outputs": [
    {
     "data": {
      "text/plain": [
       "target\n",
       "1    165\n",
       "0    138\n",
       "Name: count, dtype: int64"
      ]
     },
     "execution_count": 11,
     "metadata": {},
     "output_type": "execute_result"
    }
   ],
   "source": [
    "df['target'].value_counts()  \n",
    "# 0 - defective\n",
    "# 1 - healthy"
   ]
  },
  {
   "cell_type": "code",
   "execution_count": null,
   "id": "981bcfc6",
   "metadata": {},
   "outputs": [],
   "source": [
    "x = df.drop(columns='target',axis=1)\n",
    "y=  df['target']"
   ]
  },
  {
   "cell_type": "code",
   "execution_count": null,
   "id": "2e3b69f4",
   "metadata": {},
   "outputs": [],
   "source": [
    "print(y)   # target values"
   ]
  },
  {
   "cell_type": "code",
   "execution_count": null,
   "id": "708d46a9",
   "metadata": {},
   "outputs": [],
   "source": [
    "x_train,x_test,y_train,y_test = train_test_split(x,y,test_size=0.2,random_state=42,stratify=y)\n",
    "print(x_train.shape,x.shape,x_test.shape)    #242 train and 61 shape\n",
    "model = LogisticRegression()\n",
    "model.fit(x_train,y_train)"
   ]
  },
  {
   "cell_type": "markdown",
   "id": "edb38e05",
   "metadata": {},
   "source": [
    "# CHECK ACCURACY ON THE TRAINING DATA"
   ]
  },
  {
   "cell_type": "code",
   "execution_count": null,
   "id": "ec22af28",
   "metadata": {},
   "outputs": [
    {
     "name": "stdout",
     "output_type": "stream",
     "text": [
      "0.8388429752066116\n"
     ]
    }
   ],
   "source": [
    "x_train_predict= model.predict(x_train)\n",
    "x_train_accuracy = accuracy_score(x_train_predict,y_train)\n",
    "print(x_train_accuracy)   # 83%"
   ]
  },
  {
   "cell_type": "markdown",
   "id": "f6a53d68",
   "metadata": {},
   "source": []
  },
  {
   "cell_type": "markdown",
   "id": "0dd61ccc",
   "metadata": {},
   "source": [
    "# CHECK ACCURACY OF TESTED DATA"
   ]
  },
  {
   "cell_type": "code",
   "execution_count": null,
   "id": "ea6fa3a4",
   "metadata": {},
   "outputs": [
    {
     "name": "stdout",
     "output_type": "stream",
     "text": [
      "0.8032786885245902\n"
     ]
    }
   ],
   "source": [
    "x_test_predict = model.predict(x_test)\n",
    "x_test_accuracy = accuracy_score(x_test_predict,y_test)\n",
    "print(x_test_accuracy)  #80%"
   ]
  },
  {
   "cell_type": "markdown",
   "id": "ddef2c8c",
   "metadata": {},
   "source": [
    "# USER INPUT"
   ]
  },
  {
   "cell_type": "code",
   "execution_count": 27,
   "id": "1071ac85",
   "metadata": {},
   "outputs": [
    {
     "name": "stdout",
     "output_type": "stream",
     "text": [
      "Heart is not defected\n"
     ]
    },
    {
     "name": "stderr",
     "output_type": "stream",
     "text": [
      "c:\\Users\\kkour\\AppData\\Local\\Programs\\Python\\Python313\\Lib\\site-packages\\sklearn\\utils\\validation.py:2749: UserWarning: X does not have valid feature names, but LogisticRegression was fitted with feature names\n",
      "  warnings.warn(\n"
     ]
    }
   ],
   "source": [
    "input_values = (61,1,0,120,260,0,1,140,1,3.6,1,1,3)\n",
    "\n",
    "#change the data to numpy array from tuples\n",
    "\n",
    "input_data_array = np.asarray(input_values)\n",
    "\n",
    "# now reshape the numpy array\n",
    "\n",
    "input_data_reshaped = input_data_array.reshape(1,-1)\n",
    "\n",
    "prediction = model.predict(input_data_reshaped)\n",
    "\n",
    "if(prediction[0] == 0):\n",
    "    print(\"Heart is not defected\")\n",
    "else:\n",
    "    print(\"Defected heart\")"
   ]
  }
 ],
 "metadata": {
  "kernelspec": {
   "display_name": "Python 3",
   "language": "python",
   "name": "python3"
  },
  "language_info": {
   "codemirror_mode": {
    "name": "ipython",
    "version": 3
   },
   "file_extension": ".py",
   "mimetype": "text/x-python",
   "name": "python",
   "nbconvert_exporter": "python",
   "pygments_lexer": "ipython3",
   "version": "3.13.5"
  }
 },
 "nbformat": 4,
 "nbformat_minor": 5
}
